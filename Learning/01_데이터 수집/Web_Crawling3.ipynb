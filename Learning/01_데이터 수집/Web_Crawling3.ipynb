{
 "cells": [
  {
   "cell_type": "code",
   "execution_count": 1,
   "metadata": {},
   "outputs": [
    {
     "name": "stderr",
     "output_type": "stream",
     "text": [
      "[WDM] - Downloading: 100%|██████████| 6.79M/6.79M [00:00<00:00, 43.6MB/s]\n"
     ]
    },
    {
     "name": "stdout",
     "output_type": "stream",
     "text": [
      "win\n"
     ]
    }
   ],
   "source": [
    "#### // ============================================================================================================================\n",
    "#### // ***** 제목: 해외 축구 웹 사이트 둘러보기: 동적 페이지 크롤링\n",
    "#### // ***** url: https://www.livesport.com/robots.txt\n",
    "#### // ***** '다음의 코드는 웹 크롤링 & 데이터 분석 with 파이썬 - 정철원 저' 책의 예제 코드임\n",
    "\"\"\"\n",
    "    Sitemap: https://www.livesport.com/sitemap.xml\n",
    "\n",
    "    User-agent: *\n",
    "    Disallow: /standings/\n",
    "    Disallow: /bracket/\n",
    "    Disallow: /redirect/\n",
    "    Disallow: /newsfeed/\n",
    "    Disallow: /game/\n",
    "    Disallow: */x/js/browsercompatibility*.js\n",
    "\n",
    "    User-agent: SmartViper\n",
    "    Disallow: /\n",
    "\n",
    "    User-agent: Mediapartners-Google\n",
    "    Disallow: /standings/\n",
    "    Disallow: /bracket/\n",
    "    Disallow: /redirect/\n",
    "    Disallow: /x/\n",
    "    Allow: /game/ => 크롤링 허용 경로\n",
    "\"\"\"\n",
    "#### // ============================================================================================================================\n",
    "\n",
    "from urllib.request import urlopen\n",
    "from bs4 import BeautifulSoup\n",
    "from selenium import webdriver ## // 동적 웹 페이지를 불러오기 위함\n",
    "from selenium.webdriver.chrome.service import Service\n",
    "from webdriver_manager.chrome import ChromeDriverManager\n",
    "from selenium.webdriver.common.by import By\n",
    "\n",
    "#### // * 1. 현재 OS에 설치된 크롬 브라우저의 버전을 확인하고 그에 맞는 크롬 드라이버를 다운로드하고 경로를 설정해줍니다. \n",
    "#### //      만약 이미 다운로드된 크롬 드라이버가 있다면 그것을 사용한다.\n",
    "#### //      webdriver-manager를 사용하면 셀레니움 웹 드라이버의 버전 관리가 편리해진다.\n",
    "driver = webdriver.Chrome(service=Service(ChromeDriverManager().install()))\n",
    "driver.maximize_window()\n",
    "\n",
    "#### // * 2. 페이지가 로드될 때까지 대기한다.\n",
    "driver.implicitly_wait(5)\n",
    "\n",
    "#### // * 3. 빈 페이지에 크롤링 대상 사이트의 페이지가 로드된다.\n",
    "driver.get('https://www.livesport.com/team/manchester-united/ppjDR086/')\n",
    "\n",
    "#### // * 4. page_source() 메서드를 이용하여 불러온 페이지의 HTML 코드를 저장한다.\n",
    "page = driver.page_source\n",
    "\n",
    "#### // * 5. 저장한 HTML 코드를 BeautifulSoup 모듈로 파싱한다.\n",
    "bs_obj = BeautifulSoup(page, 'html.parser')\n",
    "\n",
    "#### // * 6. 승패 기록 페이지 크롤링하고 분석하기 1 - 승\n",
    "match_result_w = bs_obj.find_all(\"div\", attrs = {\"class\":\"formIcon formIcon--w\"})\n",
    "\n",
    "#### // * 6. 승패 기록 페이지 크롤링하고 분석하기 2 - 무승부\n",
    "match_result_t = bs_obj.find_all(\"div\", attrs = {\"class\":\"formIcon formIcon--d\"})\n",
    "\n",
    "#### // * 6. 승패 기록 페이지 크롤링하고 분석하기 2 - 패\n",
    "match_result_l = bs_obj.find_all(\"div\", attrs = {\"class\":\"formIcon formIcon--l\"})\n",
    "\n",
    "#### // * 7. 경기 결과 요약\n",
    "mach_summary_w = len(match_result_w)\n",
    "mach_summary_t = len(match_result_t)\n",
    "mach_summary_l = len(match_result_l)\n",
    "\n",
    "#### // * 8. 경기 누적 리포트(딕셔너리)\n",
    "game_cum_report = {'win': mach_summary_w, 'draw': mach_summary_t, 'lose': mach_summary_l}\n",
    "\n",
    "#### // * 9. 경기 흐름\n",
    "max_n = max(game_cum_report.values())\n",
    "#game_cum_report.keys()\n",
    "\n",
    "#### // * 10. 경기 \n",
    "for key in game_cum_report:\n",
    "    if(game_cum_report[key] == max_n):\n",
    "        print(key)\n"
   ]
  }
 ],
 "metadata": {
  "kernelspec": {
   "display_name": "Python 3",
   "language": "python",
   "name": "python3"
  },
  "language_info": {
   "codemirror_mode": {
    "name": "ipython",
    "version": 3
   },
   "file_extension": ".py",
   "mimetype": "text/x-python",
   "name": "python",
   "nbconvert_exporter": "python",
   "pygments_lexer": "ipython3",
   "version": "3.11.2"
  },
  "orig_nbformat": 4,
  "vscode": {
   "interpreter": {
    "hash": "dc87b58ac85f76231f941c652d88e743fc2f71e37923fbe171c63928634ddfd7"
   }
  }
 },
 "nbformat": 4,
 "nbformat_minor": 2
}
